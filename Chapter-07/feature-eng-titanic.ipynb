{
 "cells": [
  {
   "cell_type": "markdown",
   "id": "0dd6c5a9-f1b1-44f5-b250-79967cca9dae",
   "metadata": {},
   "source": [
    "# Feature Engineering with Titanic dataset\n",
    "\n",
    "First, import libraries and load and explore the data."
   ]
  },
  {
   "cell_type": "code",
   "execution_count": null,
   "id": "80c3f026-9d3b-4dd4-bb45-07b726c39e46",
   "metadata": {},
   "outputs": [],
   "source": [
    "import pandas as pd\n",
    "import numpy as np\n",
    "from sklearn.impute import SimpleImputer\n",
    "from sklearn.preprocessing import OneHotEncoder\n",
    "\n",
    "# Load the data\n",
    "titanic_raw = pd.read_csv('./data/titanic_train.csv')\n",
    "\n",
    "titanic_raw.head()"
   ]
  },
  {
   "cell_type": "markdown",
   "id": "c3eafea1-797a-427a-9677-69fe39aad1d4",
   "metadata": {},
   "source": [
    "Feature engineering:"
   ]
  },
  {
   "cell_type": "code",
   "execution_count": null,
   "id": "ec84cd8a-694f-4170-863e-0b41c55d955f",
   "metadata": {},
   "outputs": [],
   "source": [
    "# Create a new feature \"FamilySize\" as a combination of SibSp and Parch\n",
    "titanic = titanic_raw\n",
    "titanic['FamilySize'] = titanic['SibSp'] + titanic['Parch'] + 1\n",
    "\n",
    "# Create new feature \"IsAlone\" from \"FamilySize\"\n",
    "titanic['IsAlone'] = 0\n",
    "titanic.loc[titanic['FamilySize'] == 1, 'IsAlone'] = 1\n",
    "\n",
    "# Create \"FarePerPerson\" feature\n",
    "titanic['FarePerPerson'] = titanic['Fare'] / titanic['FamilySize']\n",
    "\n",
    "# Create a new feature \"Title\", this is extracted from the name feature\n",
    "# We first define a function to extract titles from passenger names\n",
    "def get_title(name):\n",
    "    if '.' in name:\n",
    "        return name.split(',')[1].split('.')[0].strip()\n",
    "    else:\n",
    "        return 'Unknown'\n",
    "        \n",
    "# Create a new \"Title\" feature\n",
    "titanic['Title'] = titanic['Name'].apply(get_title)\n",
    "\n",
    "# Simplify the titles, merge less common titles into the same category\n",
    "titanic['Title'] = titanic['Title'].replace(['Lady', 'Countess','Capt', 'Col','Don', 'Dr', 'Major', 'Rev', 'Sir', 'Jonkheer', 'Dona'], 'Distinguished')\n",
    "titanic['Title'] = titanic['Title'].replace('Mlle', 'Miss')\n",
    "titanic['Title'] = titanic['Title'].replace('Ms', 'Miss')\n",
    "titanic['Title'] = titanic['Title'].replace('Mme', 'Mrs')\n",
    "\n",
    "# Convert \"Title\" into numerical values using one-hot encoding\n",
    "one_hot = OneHotEncoder()\n",
    "title_encoded = one_hot.fit_transform(titanic[['Title']]).toarray()\n",
    "title_encoded_df = pd.DataFrame(title_encoded, columns=one_hot.get_feature_names_out(['Title']))\n",
    "titanic = pd.concat([titanic, title_encoded_df], axis=1)\n",
    "\n",
    "# Fill missing age values using median age\n",
    "median_age = titanic['Age'].median()\n",
    "titanic['Age'].fillna(median_age, inplace=True)\n",
    "\n",
    "# Create \"AgeGroup\" feature\n",
    "bins = [0, 10, 20, 30, 40, 50, 60, 70, np.inf]\n",
    "labels = ['0-9', '10-19', '20-29', '30-39', '40-49', '50-59', '60-69', '70+']\n",
    "titanic['AgeGroup'] = pd.cut(titanic['Age'], bins=bins, labels=labels)\n",
    "\n",
    "# Convert \"AgeGroup\" into numerical values using one-hot encoding\n",
    "age_group_encoded = one_hot.fit_transform(titanic[['AgeGroup']]).toarray()\n",
    "age_group_encoded_df = pd.DataFrame(age_group_encoded, columns=one_hot.get_feature_names_out(['AgeGroup']))\n",
    "titanic = pd.concat([titanic, age_group_encoded_df], axis=1)\n",
    "\n",
    "# Fill missing cabin values with \"U\" for unknown\n",
    "titanic['Cabin'].fillna('U', inplace=True)\n",
    "\n",
    "# Create \"CabinClass\" feature\n",
    "titanic['CabinClass'] = titanic['Cabin'].apply(lambda x: x[0])\n",
    "\n",
    "# Convert CabinClass into numerical values using one-hot encoding\n",
    "cabin_class_encoded = one_hot.fit_transform(titanic[['CabinClass']]).toarray()\n",
    "cabin_class_encoded_df = pd.DataFrame(cabin_class_encoded, columns=one_hot.get_feature_names_out(['CabinClass']))\n",
    "titanic = pd.concat([titanic, cabin_class_encoded_df], axis=1)\n",
    "\n",
    "# Convert Sex into numerical values using one-hot encoding\n",
    "sex_encoded = one_hot.fit_transform(titanic[['Sex']]).toarray()\n",
    "sex_encoded_df = pd.DataFrame(sex_encoded, columns=one_hot.get_feature_names_out(['Sex']))\n",
    "titanic = pd.concat([titanic, sex_encoded_df], axis=1)\n",
    "\n",
    "# Convert Embarked into numerical values using one-hot encoding\n",
    "embarked_encoded = one_hot.fit_transform(titanic[['Embarked']]).toarray()\n",
    "embarked_encoded_df = pd.DataFrame(embarked_encoded, columns=one_hot.get_feature_names_out(['Embarked']))\n",
    "titanic = pd.concat([titanic, embarked_encoded_df], axis=1)\n",
    "\n",
    "# Drop irrelevant features\n",
    "titanic = titanic.drop(['Name', 'Ticket', 'Title', 'Cabin', 'Sex', 'Embarked', 'AgeGroup', 'CabinClass'], axis=1)\n",
    "\n",
    "titanic.head()\n"
   ]
  }
 ],
 "metadata": {
  "kernelspec": {
   "display_name": "Python (Local)",
   "language": "python",
   "name": "local-base"
  },
  "language_info": {
   "codemirror_mode": {
    "name": "ipython",
    "version": 3
   },
   "file_extension": ".py",
   "mimetype": "text/x-python",
   "name": "python",
   "nbconvert_exporter": "python",
   "pygments_lexer": "ipython3",
   "version": "3.7.12"
  }
 },
 "nbformat": 4,
 "nbformat_minor": 5
}
